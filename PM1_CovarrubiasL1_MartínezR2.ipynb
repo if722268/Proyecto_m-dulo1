{
 "cells": [
  {
   "cell_type": "markdown",
   "metadata": {},
   "source": [
    "# Proyecto de Optimizción\n",
    "## ISR"
   ]
  },
  {
   "cell_type": "markdown",
   "metadata": {},
   "source": [
    "|Límite inferior|Límite superior|Cuota fija|% sobre excedente de límite inferior|\n",
    "|-----|-----|-----|-----|\n",
    "|103550.45 | 120372.83 | 8315.57 | 16.00|\n",
    "|120372.84|144119.23|11007.14|17.92|\n",
    "|144119.24|290667.75|15262.49|21.36|"
   ]
  }
 ],
 "metadata": {
  "kernelspec": {
   "display_name": "Python 3",
   "language": "python",
   "name": "python3"
  },
  "language_info": {
   "codemirror_mode": {
    "name": "ipython",
    "version": 3
   },
   "file_extension": ".py",
   "mimetype": "text/x-python",
   "name": "python",
   "nbconvert_exporter": "python",
   "pygments_lexer": "ipython3",
   "version": "3.7.1"
  }
 },
 "nbformat": 4,
 "nbformat_minor": 2
}
